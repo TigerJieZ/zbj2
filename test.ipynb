{
 "cells": [
  {
   "cell_type": "code",
   "execution_count": 1,
   "metadata": {
    "collapsed": true
   },
   "outputs": [],
   "source": [
    "import jieba.posseg as jp\n",
    "import jieba"
   ]
  },
  {
   "cell_type": "code",
   "execution_count": 5,
   "metadata": {},
   "outputs": [],
   "source": [
    "text = ['内蒙古自治区人民政府关于禁止在包头市五当沟水库建设范围内新建各类项目的通告',\n",
    "        '内蒙古自治区人民政府办公厅关于加快新型职业农牧民培育工作的意见',\n",
    "        '内蒙古自治区人民政府办公厅关于印发《内蒙古自治区财政支出绩效评价管理办法》的通知 '\n",
    "    , '内蒙古自治区人民政府办公厅关于认真贯彻落实全国安全生产电视电话会议精神进一步深化全区安全生产大检查的通知'\n",
    "    , '内蒙古自治区人民政府关于推进国内贸易流通现代化建设法治化营商环境的实施意见'\n",
    "    , '内蒙古自治区人民政府办公厅关于印发城市总体规划修改工作规则的通知'\n",
    "    , '内蒙古自治区人民政府办公厅关于促进建筑业持续健康发展的实施意见'\n",
    "    , '内蒙古自治区人民政府办公厅关于支持铁路建设实施土地综合开发的实施意见'\n",
    "    , '内蒙古自治区人民政府办公厅关于印发自治区2017年度法治政府建设工作计划的通知'\n",
    "    , '内蒙古自治区人民政府办公厅关于印发大数据与产业深度融合行动计划（2018—2020年）的通知']\n"
   ]
  },
  {
   "cell_type": "code",
   "execution_count": 6,
   "metadata": {},
   "outputs": [],
   "source": [
    "words = jp.cut(text[9])\n",
    "words2 = jieba.cut(text[9])"
   ]
  },
  {
   "cell_type": "code",
   "execution_count": 7,
   "metadata": {},
   "outputs": [
    {
     "name": "stdout",
     "output_type": "stream",
     "text": [
      "内蒙古自治区人民政府/nt\n办公厅/n\n关于/p\n印发/nz\n大/a\n数据/n\n与/p\n产业/n\n深度/ns\n融合/vn\n行动计划/n\n（/x\n2018/m\n—/x\n2020/m\n年/m\n）/x\n的/uj\n通知/v\n内蒙古自治区人民政府\n办公厅\n关于\n印发\n大\n数据\n与\n产业\n深度\n融合\n行动计划\n（\n2018\n—\n2020\n年\n）\n的\n通知\n"
     ]
    }
   ],
   "source": [
    "for word in words:\n",
    "    print(word)\n",
    "for word in words2:\n",
    "    print(word)"
   ]
  },
  {
   "cell_type": "code",
   "execution_count": 11,
   "metadata": {},
   "outputs": [
    {
     "name": "stdout",
     "output_type": "stream",
     "text": [
      "True\nFalse\nFalse\n"
     ]
    }
   ],
   "source": [
    "print(True & True)\n",
    "print(False & False)\n",
    "print(True & False)"
   ]
  },
  {
   "cell_type": "code",
   "execution_count": null,
   "metadata": {},
   "outputs": [],
   "source": []
  }
 ],
 "metadata": {
  "kernelspec": {
   "display_name": "Python 2",
   "language": "python",
   "name": "python2"
  },
  "language_info": {
   "codemirror_mode": {
    "name": "ipython",
    "version": 2
   },
   "file_extension": ".py",
   "mimetype": "text/x-python",
   "name": "python",
   "nbconvert_exporter": "python",
   "pygments_lexer": "ipython2",
   "version": "2.7.6"
  }
 },
 "nbformat": 4,
 "nbformat_minor": 0
}
